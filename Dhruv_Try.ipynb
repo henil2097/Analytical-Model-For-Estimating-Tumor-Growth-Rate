{
  "nbformat": 4,
  "nbformat_minor": 0,
  "metadata": {
    "colab": {
      "name": "Dhruv Try.ipynb",
      "provenance": [],
      "authorship_tag": "ABX9TyN3FxEFiUxvfJJ0ibCTlNXr",
      "include_colab_link": true
    },
    "kernelspec": {
      "name": "python3",
      "display_name": "Python 3"
    }
  },
  "cells": [
    {
      "cell_type": "markdown",
      "metadata": {
        "id": "view-in-github",
        "colab_type": "text"
      },
      "source": [
        "<a href=\"https://colab.research.google.com/github/henil2097/Analytical-Model-For-Estimating-Tumor-Growth-Rate/blob/master/Dhruv_Try.ipynb\" target=\"_parent\"><img src=\"https://colab.research.google.com/assets/colab-badge.svg\" alt=\"Open In Colab\"/></a>"
      ]
    },
    {
      "cell_type": "code",
      "metadata": {
        "id": "fBk2QBJ5Vw8V",
        "colab_type": "code",
        "outputId": "3e9145f0-2dff-4793-997f-eadca575238a",
        "colab": {
          "base_uri": "https://localhost:8080/",
          "height": 124
        }
      },
      "source": [
        "from google.colab import drive\n",
        "drive.mount('/content/drive')"
      ],
      "execution_count": 0,
      "outputs": [
        {
          "output_type": "stream",
          "text": [
            "Go to this URL in a browser: https://accounts.google.com/o/oauth2/auth?client_id=947318989803-6bn6qk8qdgf4n4g3pfee6491hc0brc4i.apps.googleusercontent.com&redirect_uri=urn%3aietf%3awg%3aoauth%3a2.0%3aoob&response_type=code&scope=email%20https%3a%2f%2fwww.googleapis.com%2fauth%2fdocs.test%20https%3a%2f%2fwww.googleapis.com%2fauth%2fdrive%20https%3a%2f%2fwww.googleapis.com%2fauth%2fdrive.photos.readonly%20https%3a%2f%2fwww.googleapis.com%2fauth%2fpeopleapi.readonly\n",
            "\n",
            "Enter your authorization code:\n",
            "··········\n",
            "Mounted at /content/drive\n"
          ],
          "name": "stdout"
        }
      ]
    },
    {
      "cell_type": "code",
      "metadata": {
        "id": "3R2T-I1OVyUb",
        "colab_type": "code",
        "colab": {}
      },
      "source": [
        "import pandas as pd\n",
        "import numpy as np\n",
        "import matplotlib.pyplot as plt\n",
        "import math"
      ],
      "execution_count": 0,
      "outputs": []
    },
    {
      "cell_type": "code",
      "metadata": {
        "id": "hq0kggTkWcaV",
        "colab_type": "code",
        "colab": {}
      },
      "source": [
        "data = pd.read_csv('/content/drive/My Drive/PE Related/tumdat.csv')"
      ],
      "execution_count": 0,
      "outputs": []
    },
    {
      "cell_type": "code",
      "metadata": {
        "id": "u-qUk3MeWfM_",
        "colab_type": "code",
        "colab": {}
      },
      "source": [
        "data1 = data[data['id'] == 22]"
      ],
      "execution_count": 0,
      "outputs": []
    },
    {
      "cell_type": "code",
      "metadata": {
        "id": "SinvMj63WjdL",
        "colab_type": "code",
        "colab": {}
      },
      "source": [
        "def find_volume(t, A, V0, r):\n",
        "  return  V0*np.exp(A*(1-np.exp(-r*t)))\n",
        "\n",
        "def cal_rate(t1, t2, V1, V2):\n",
        "  return (V2-V1)/(t2-t1)\n",
        "\n",
        "def cal_rate_g(t1, t2, v1, v2):\n",
        "  Vinf = 1000000  #753312.102292    ################################# Need to check #################################\n",
        "  return (math.log(Vinf/v1) - math.log(Vinf/v2)) / (t2-t1)"
      ],
      "execution_count": 0,
      "outputs": []
    },
    {
      "cell_type": "code",
      "metadata": {
        "id": "yJmeIyeCWnDm",
        "colab_type": "code",
        "outputId": "2caf87b1-5342-4b9b-fe73-f94be15b6cd8",
        "colab": {
          "base_uri": "https://localhost:8080/",
          "height": 86
        }
      },
      "source": [
        "from scipy.optimize import curve_fit\n",
        "t = data1['Time'].values\n",
        "vol = data1['TumVol'].values\n",
        "g = [27.631,100,0.2]\n",
        "c,cov = curve_fit(find_volume,t,vol,g, maxfev=10000)\n",
        "print(c)\n",
        "print(cov)"
      ],
      "execution_count": 0,
      "outputs": [
        {
          "output_type": "stream",
          "text": [
            "[4.51354051e+03 9.62610823e+01 6.28646311e-05]\n",
            "[[ 5.31790404e+13  3.61872026e+08 -7.41100781e+05]\n",
            " [ 3.61872026e+08  3.42870134e+03 -5.04330843e+00]\n",
            " [-7.41100781e+05 -5.04330843e+00  1.03279481e-02]]\n"
          ],
          "name": "stdout"
        }
      ]
    },
    {
      "cell_type": "code",
      "metadata": {
        "id": "5lBLnO8mWq4_",
        "colab_type": "code",
        "outputId": "b2a91c36-3c4a-44b4-92d5-9e28230fda21",
        "colab": {
          "base_uri": "https://localhost:8080/",
          "height": 282
        }
      },
      "source": [
        "n = len(data1['Time'])\n",
        "y = np.empty(n)\n",
        "for i in range(n):\n",
        "  y[i] = find_volume(data1['Time'][i+187],c[0],c[1],c[2])\n",
        "\n",
        "plt.plot(data1['Time'],data1['TumVol'])\n",
        "plt.plot(data1['Time'],y,'ro')"
      ],
      "execution_count": 0,
      "outputs": [
        {
          "output_type": "execute_result",
          "data": {
            "text/plain": [
              "[<matplotlib.lines.Line2D at 0x7f0f64218e10>]"
            ]
          },
          "metadata": {
            "tags": []
          },
          "execution_count": 118
        },
        {
          "output_type": "display_data",
          "data": {
            "image/png": "[encoded data removed]",
            "text/plain": [
              "<Figure size 432x288 with 1 Axes>"
            ]
          },
          "metadata": {
            "tags": [],
            "needs_background": "light"
          }
        }
      ]
    },
    {
      "cell_type": "markdown",
      "metadata": {
        "id": "coKI1GrV6w0e",
        "colab_type": "text"
      },
      "source": [
        "# April 28, 2020"
      ]
    },
    {
      "cell_type": "code",
      "metadata": {
        "id": "j5iwIs-E7JhM",
        "colab_type": "code",
        "colab": {}
      },
      "source": [
        "n = 28\n",
        "rate = np.empty(n)\n",
        "init_vol = np.empty(n)\n",
        "\n",
        "start_index = [0, 8, 16, 23, 33, 41, 50, 57, 68, 78, 85, 95, 106, 116, 127, 136, 146, 155, 164, 172, 180, 187, 197, 208, 218, 229, 238, 249]\n",
        "no_of_records = [8, 8, 7, 10, 8, 9, 7, 11, 10, 7, 10, 11, 10, 11, 9, 10, 9, 9, 8, 8, 7, 10, 11, 10, 11, 9, 11, 8]\n",
        "\n",
        "j = 0\n",
        "\n",
        "for i in range(n):\n",
        "  j = start_index[i]\n",
        "  init_vol[i] = data['TumVol'][j]\n",
        "  rate[i] = cal_rate(0, 1, data['TumVol'][j], data['TumVol'][j+1])\n"
      ],
      "execution_count": 0,
      "outputs": []
    },
    {
      "cell_type": "code",
      "metadata": {
        "id": "NC_R7YGXCwMs",
        "colab_type": "code",
        "outputId": "4a4d51f9-55c6-44ff-8f1d-40c64d883641",
        "colab": {
          "base_uri": "https://localhost:8080/",
          "height": 312
        }
      },
      "source": [
        "plt.plot(init_vol,rate, 'ro')\n",
        "plt.xlabel('Initial Volume')\n",
        "plt.ylabel('Rate Estimates')\n",
        "plt.title('Rate Estimates vs Initial Volume')\n",
        "m, b = np.polyfit(init_vol, rate, 1) # m = slope, b=intercept\n",
        "plt.plot(init_vol, m*init_vol + b)"
      ],
      "execution_count": 0,
      "outputs": [
        {
          "output_type": "execute_result",
          "data": {
            "text/plain": [
              "[<matplotlib.lines.Line2D at 0x7f0f646e70f0>]"
            ]
          },
          "metadata": {
            "tags": []
          },
          "execution_count": 120
        },
        {
          "output_type": "display_data",
          "data": {
            "image/png": "[encoded data removed]",
            "text/plain": [
              "<Figure size 432x288 with 1 Axes>"
            ]
          },
          "metadata": {
            "tags": [],
            "needs_background": "light"
          }
        }
      ]
    },
    {
      "cell_type": "code",
      "metadata": {
        "id": "iJMlcacvDMwL",
        "colab_type": "code",
        "outputId": "dd59f86e-bce2-4fca-ef50-d4c95cefa799",
        "colab": {
          "base_uri": "https://localhost:8080/",
          "height": 86
        }
      },
      "source": [
        "init_vol"
      ],
      "execution_count": 0,
      "outputs": [
        {
          "output_type": "execute_result",
          "data": {
            "text/plain": [
              "array([120.1, 162.7, 155.2, 224.6, 170.2, 135.2, 141.8, 174.2, 141.5,\n",
              "       155.2, 177.9,  54.7, 160. , 111.6, 145. , 144.1, 101.1, 215. ,\n",
              "       160.2, 137.8,  97.2, 114.3, 157.9, 222.5,  96.1, 166.7, 161.8,\n",
              "       196.9])"
            ]
          },
          "metadata": {
            "tags": []
          },
          "execution_count": 121
        }
      ]
    },
    {
      "cell_type": "code",
      "metadata": {
        "id": "o8xYdpBVDUoi",
        "colab_type": "code",
        "outputId": "71dfaef3-bc3b-4655-90b5-610be4fb977a",
        "colab": {
          "base_uri": "https://localhost:8080/",
          "height": 86
        }
      },
      "source": [
        "rate"
      ],
      "execution_count": 0,
      "outputs": [
        {
          "output_type": "execute_result",
          "data": {
            "text/plain": [
              "array([ 42.7, 121.6,  77.9, -22.3, 101.5, -46.7,  10.8,  23. ,  62.9,\n",
              "        21.1,  84.9, 166.4,  20.1,  29.4,  -6.2,  55.8, -11.5, -56.1,\n",
              "       -33.3,  41.2,   4.9,  41.1,  21.8, -25.3,  81.4,  39. , -62.3,\n",
              "        33.9])"
            ]
          },
          "metadata": {
            "tags": []
          },
          "execution_count": 122
        }
      ]
    },
    {
      "cell_type": "code",
      "metadata": {
        "id": "QmOdy20lIepl",
        "colab_type": "code",
        "colab": {}
      },
      "source": [
        "rate_redu = np.empty(0)\n",
        "init_vol_redu = np.empty(0)\n",
        "for i in range(n):\n",
        "  if rate[i] >= 0 and rate[i] < 125:\n",
        "    rate_redu = np.append(rate_redu,rate[i])\n",
        "    init_vol_redu = np.append(init_vol_redu, init_vol[i])"
      ],
      "execution_count": 0,
      "outputs": []
    },
    {
      "cell_type": "code",
      "metadata": {
        "id": "C8IR2XlcOvi5",
        "colab_type": "code",
        "outputId": "5e1ecff6-fbdc-409f-a86a-dd395b8a50ca",
        "colab": {
          "base_uri": "https://localhost:8080/",
          "height": 312
        }
      },
      "source": [
        "plt.plot(init_vol_redu,rate_redu, 'ro')\n",
        "plt.xlabel('Initial Volume')\n",
        "plt.ylabel('Rate Estimates')\n",
        "plt.title('Rate Estimates vs Initial Volume(reduced dataset)')\n",
        "m, b = np.polyfit(init_vol_redu, rate_redu, 1) # m = slope, b=intercept\n",
        "plt.plot(init_vol_redu, m*init_vol_redu + b)"
      ],
      "execution_count": 0,
      "outputs": [
        {
          "output_type": "execute_result",
          "data": {
            "text/plain": [
              "[<matplotlib.lines.Line2D at 0x7f0f63da69b0>]"
            ]
          },
          "metadata": {
            "tags": []
          },
          "execution_count": 124
        },
        {
          "output_type": "display_data",
          "data": {
            "image/png": "[encoded data removed]",
            "text/plain": [
              "<Figure size 432x288 with 1 Axes>"
            ]
          },
          "metadata": {
            "tags": [],
            "needs_background": "light"
          }
        }
      ]
    },
    {
      "cell_type": "markdown",
      "metadata": {
        "id": "g19vuNVtLp_P",
        "colab_type": "text"
      },
      "source": [
        "Plotted graph for initial volume v/s rate -\n",
        "\n",
        "we got some negative rate values and some points where clearly outliers and the linear regression line was negative\n",
        "After removing this negative values and outliers (removing this patients) we plotted again and this time Linear Regression line was positive\n",
        "\n",
        "conclusion : getting a positive linear line shows that patients with high initial volume will have higher rate as compared to patients with lower initial volume"
      ]
    },
    {
      "cell_type": "markdown",
      "metadata": {
        "id": "08LsfMxHLtFl",
        "colab_type": "text"
      },
      "source": [
        "# April 30, 2020"
      ]
    },
    {
      "cell_type": "code",
      "metadata": {
        "id": "RVzve69mLwQi",
        "colab_type": "code",
        "outputId": "36b67931-1081-4cf1-c2a0-82dff2232567",
        "colab": {
          "base_uri": "https://localhost:8080/",
          "height": 225
        }
      },
      "source": [
        "id = 23\n",
        "\n",
        "time = data[data['id'] == id]['Time'].values\n",
        "TumVol = data[data['id'] == id]['TumVol'].values\n",
        "guess = [27.631, 100, 0.2]\n",
        "c,cov = curve_fit( find_volume, time, TumVol, guess, maxfev=10000)\n",
        "print(data[data['id'] == id], c)\n"
      ],
      "execution_count": 0,
      "outputs": [
        {
          "output_type": "stream",
          "text": [
            "     Group  id  Time  TumVol\n",
            "197      3  23     0   157.9\n",
            "198      3  23     1   179.7\n",
            "199      3  23     2   171.2\n",
            "200      3  23     3   189.1\n",
            "201      3  23     4   254.1\n",
            "202      3  23     5   261.6\n",
            "203      3  23     6   358.8\n",
            "204      3  23     7   409.8\n",
            "205      3  23     8   668.6\n",
            "206      3  23     9   992.2\n",
            "207      3  23    10  1131.8 [7.22295238e+03 7.99589781e+01 3.69980551e-05]\n"
          ],
          "name": "stdout"
        }
      ]
    },
    {
      "cell_type": "code",
      "metadata": {
        "id": "26kO822rNkxA",
        "colab_type": "code",
        "outputId": "6cf8acb1-0084-420c-9ecf-82b3076ec530",
        "colab": {
          "base_uri": "https://localhost:8080/",
          "height": 121
        }
      },
      "source": [
        "n = no_of_records[id - 1] - 1\n",
        "rate_by_initVol = np.empty(n)\n",
        "rate_by_initVol_g = np.empty(n)\n",
        "time = np.empty(n)\n",
        "TumVol_g = np.empty(n + 1)\n",
        "\n",
        "for i in range(n + 1):\n",
        "  TumVol_g[i] = find_volume( i, c[0],c[1],c[2])\n",
        "print(TumVol_g)\n",
        "\n",
        "for i in range(n):\n",
        "  time[i] = i\n",
        "  rate_by_initVol[i] = cal_rate(0, i+1, data['TumVol'][start_index[id - 1]], data['TumVol'][start_index[id - 1] + i + 1]) / math.log(data['TumVol'][start_index[id - 1]])\n",
        "  rate_by_initVol_g[i] = cal_rate(0, i+1, TumVol_g[0], TumVol_g[i+1]) / math.log(TumVol_g[0])\n",
        "print(rate_by_initVol, time, rate_by_initVol_g)"
      ],
      "execution_count": 0,
      "outputs": [
        {
          "output_type": "stream",
          "text": [
            "[  79.9589781   104.45370684  136.45083094  178.2478167   232.84555937\n",
            "  304.16371739  397.32195317  519.00724827  677.95363184  885.56871888\n",
            " 1156.75197801]\n",
            "[ 4.30663058  1.31371988  2.05453936  4.75112227  4.09722561  6.61469483\n",
            "  7.10904484 12.61121695 18.31305755 19.23957578] [0. 1. 2. 3. 4. 5. 6. 7. 8. 9.] [ 5.59047175  6.4466137   7.47754046  8.72338823 10.23412241 12.0720446\n",
            " 14.31495719 17.06016147 20.42951339 24.57582165]\n"
          ],
          "name": "stdout"
        }
      ]
    },
    {
      "cell_type": "code",
      "metadata": {
        "id": "hbxX8xExNkmW",
        "colab_type": "code",
        "outputId": "39af2c4d-f7a0-428e-8db6-e63ed336d347",
        "colab": {
          "base_uri": "https://localhost:8080/",
          "height": 295
        }
      },
      "source": [
        "plt.plot(time,rate_by_initVol, 'bo-', label = 'Actual')\n",
        "plt.xlabel('Time')\n",
        "plt.ylabel('Rate / log(Initial Volume)')\n",
        "plt.title('Rate / log(Initial Volume) vs Time' + ' [ID : ' + str(id) + ']')\n",
        "# zip joins x and y coordinates in pairs\n",
        "for x,y1,y2 in zip(time,rate_by_initVol,rate_by_initVol_g):\n",
        "\n",
        "    label1 = \"{:.2f}\".format(y1)\n",
        "    label2 = \"{:.2f}\".format(y2)\n",
        "\n",
        "    plt.annotate(label1, # this is the text\n",
        "                 (x,y1), # this is the point to label\n",
        "                 textcoords=\"offset points\", # how to position the text\n",
        "                 rotation=0, # rotate the label\n",
        "                 xytext=(0,-15), # distance from text to points (x,y)\n",
        "                 ha='center') # horizontal alignment can be left, right or center\n",
        "    plt.annotate(label2, # this is the text\n",
        "                 (x,y2), # this is the point to label\n",
        "                 textcoords=\"offset points\", # how to position the text\n",
        "                 rotation=0, # rotate the label\n",
        "                 xytext=(0,15), # distance from text to points (x,y)\n",
        "                 ha='center') # horizontal alignment can be left, right or center\n",
        "plt.xticks(np.arange(start = 0, stop = 10, step = 1, dtype = None))\n",
        "plt.yticks(np.arange(0,50,3))\n",
        "\n",
        "#plt.show()\n",
        "plt.plot(time,rate_by_initVol_g, 'ro-', label = 'Predicted')\n",
        "#plt.xlabel('Time')\n",
        "#plt.ylabel('Rate_g / log(Initial Volume)')\n",
        "#plt.title('Rate_g / log(Initial Volume) vs Time' + ' [ID : ' + str(id) + ']')\n",
        "plt.legend()\n",
        "plt.show()"
      ],
      "execution_count": 0,
      "outputs": [
        {
          "output_type": "display_data",
          "data": {
            "image/png": "[encoded data removed]",
            "text/plain": [
              "<Figure size 432x288 with 1 Axes>"
            ]
          },
          "metadata": {
            "tags": [],
            "needs_background": "light"
          }
        }
      ]
    },
    {
      "cell_type": "code",
      "metadata": {
        "id": "3klEdvyDf3AA",
        "colab_type": "code",
        "outputId": "d310f85a-6da4-43b0-cd1b-e5b996ef6a32",
        "colab": {
          "base_uri": "https://localhost:8080/",
          "height": 69
        }
      },
      "source": [
        "n = no_of_records[id - 1] - 1\n",
        "rate_by_vol = np.empty(n)\n",
        "rate_by_vol_g = np.empty(n)\n",
        "time = np.empty(n)\n",
        "\n",
        "for i in range(n):\n",
        "  time[i] = i\n",
        "  rate_by_vol[i] = cal_rate(0, i+1, data['TumVol'][start_index[id - 1]], data['TumVol'][start_index[id - 1] + i + 1]) / math.log(data['TumVol'][start_index[id - 1] + i + 1])\n",
        "  rate_by_vol_g[i] = cal_rate(0, i+1, TumVol_g[0], TumVol_g[i+1]) / math.log(TumVol_g[i+1])\n",
        "print(rate_by_vol, time, rate_by_vol_g)"
      ],
      "execution_count": 0,
      "outputs": [
        {
          "output_type": "stream",
          "text": [
            "[ 4.19934257  1.29306176  1.98387114  4.34293639  3.72564814  5.69176783\n",
            "  5.98199683  9.81332436 13.43492922 13.85040258] [0. 1. 2. 3. 4. 5. 6. 7. 8. 9.] [ 5.26910685  5.74575495  6.32101895  7.01266289  7.84266366  8.83810626\n",
            " 10.03231056 11.46624131 13.19026803 15.26635914]\n"
          ],
          "name": "stdout"
        }
      ]
    },
    {
      "cell_type": "code",
      "metadata": {
        "id": "hou7O9cChWaW",
        "colab_type": "code",
        "outputId": "0501c468-ca27-4ccd-9680-618e9000dcd9",
        "colab": {
          "base_uri": "https://localhost:8080/",
          "height": 295
        }
      },
      "source": [
        "plt.plot(time,rate_by_vol, 'bo-', label = 'Actual')\n",
        "plt.xlabel('Time')\n",
        "plt.ylabel('Rate / log(Volume(V1))')\n",
        "plt.title('Rate / log(Volume(V1)) vs Time' + ' [ID : ' + str(id) + ']')\n",
        "# zip joins x and y coordinates in pairs\n",
        "for x,y1,y2 in zip(time,rate_by_vol,rate_by_vol_g):\n",
        "\n",
        "    label1 = \"{:.2f}\".format(y1)\n",
        "    label2 = \"{:.2f}\".format(y2)\n",
        "\n",
        "    plt.annotate(label1, # this is the text\n",
        "                 (x,y1), # this is the point to label\n",
        "                 textcoords=\"offset points\", # how to position the text\n",
        "                 rotation=0, # rotate the label\n",
        "                 xytext=(0,-15), # distance from text to points (x,y)\n",
        "                 ha='center') # horizontal alignment can be left, right or center\n",
        "    plt.annotate(label2, # this is the text\n",
        "                 (x,y2), # this is the point to label\n",
        "                 textcoords=\"offset points\", # how to position the text\n",
        "                 rotation=0, # rotate the label\n",
        "                 xytext=(0,15), # distance from text to points (x,y)\n",
        "                 ha='center') # horizontal alignment can be left, right or center\n",
        "plt.xticks(np.arange(start = 0, stop = 10, step = 1, dtype = None))\n",
        "plt.yticks(np.arange(0,50,3))\n",
        "#plt.show()\n",
        "\n",
        "plt.plot(time,rate_by_vol_g, 'ro-', label = 'Predicted')\n",
        "#plt.xlabel('Time')\n",
        "#plt.ylabel('Rate_g / log(Volume(V1))')\n",
        "#plt.title('Rate_g / log(Volume(V1)) vs Time' + ' [ID : ' + str(id) + ']')\n",
        "plt.legend()\n",
        "plt.show()"
      ],
      "execution_count": 0,
      "outputs": [
        {
          "output_type": "display_data",
          "data": {
            "image/png": "[encoded data removed]",
            "text/plain": [
              "<Figure size 432x288 with 1 Axes>"
            ]
          },
          "metadata": {
            "tags": [],
            "needs_background": "light"
          }
        }
      ]
    }
  ]
}