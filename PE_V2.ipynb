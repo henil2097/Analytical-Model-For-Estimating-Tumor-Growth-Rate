{
  "nbformat": 4,
  "nbformat_minor": 0,
  "metadata": {
    "colab": {
      "name": "PE_V2.ipynb",
      "provenance": [],
      "collapsed_sections": [],
      "include_colab_link": true
    },
    "kernelspec": {
      "name": "python3",
      "display_name": "Python 3"
    }
  },
  "cells": [
    {
      "cell_type": "markdown",
      "metadata": {
        "id": "view-in-github",
        "colab_type": "text"
      },
      "source": [
        "<a href=\"https://colab.research.google.com/github/henil2097/Analytical-Model-For-Estimating-Tumor-Growth-Rate/blob/master/PE_V2.ipynb\" target=\"_parent\"><img src=\"https://colab.research.google.com/assets/colab-badge.svg\" alt=\"Open In Colab\"/></a>"
      ]
    },
    {
      "cell_type": "code",
      "metadata": {
        "id": "GvtUf3w2Pq-l",
        "colab_type": "code",
        "outputId": "f67177ec-331c-4732-a733-a8b1a7648679",
        "colab": {
          "base_uri": "https://localhost:8080/",
          "height": 122
        }
      },
      "source": [
        "from google.colab import drive\n",
        "drive.mount('/content/drive')"
      ],
      "execution_count": 1,
      "outputs": [
        {
          "output_type": "stream",
          "text": [
            "Go to this URL in a browser: https://accounts.google.com/o/oauth2/auth?client_id=947318989803-6bn6qk8qdgf4n4g3pfee6491hc0brc4i.apps.googleusercontent.com&redirect_uri=urn%3aietf%3awg%3aoauth%3a2.0%3aoob&response_type=code&scope=email%20https%3a%2f%2fwww.googleapis.com%2fauth%2fdocs.test%20https%3a%2f%2fwww.googleapis.com%2fauth%2fdrive%20https%3a%2f%2fwww.googleapis.com%2fauth%2fdrive.photos.readonly%20https%3a%2f%2fwww.googleapis.com%2fauth%2fpeopleapi.readonly\n",
            "\n",
            "Enter your authorization code:\n",
            "··········\n",
            "Mounted at /content/drive\n"
          ],
          "name": "stdout"
        }
      ]
    },
    {
      "cell_type": "code",
      "metadata": {
        "id": "jv35V3w9P9-g",
        "colab_type": "code",
        "colab": {}
      },
      "source": [
        "import pandas as pd\n",
        "import numpy as np\n",
        "import matplotlib.pyplot as plt"
      ],
      "execution_count": 0,
      "outputs": []
    },
    {
      "cell_type": "code",
      "metadata": {
        "id": "_6R8gdm3QDLa",
        "colab_type": "code",
        "colab": {
          "base_uri": "https://localhost:8080/",
          "height": 419
        },
        "outputId": "209a9206-7204-4463-add3-e39a1a762792"
      },
      "source": [
        "data = pd.read_csv('/content/drive/My Drive/PE Related/tumdat.csv')\n",
        "data"
      ],
      "execution_count": 10,
      "outputs": [
        {
          "output_type": "execute_result",
          "data": {
            "text/html": [
              "<div>\n",
              "<style scoped>\n",
              "    .dataframe tbody tr th:only-of-type {\n",
              "        vertical-align: middle;\n",
              "    }\n",
              "\n",
              "    .dataframe tbody tr th {\n",
              "        vertical-align: top;\n",
              "    }\n",
              "\n",
              "    .dataframe thead th {\n",
              "        text-align: right;\n",
              "    }\n",
              "</style>\n",
              "<table border=\"1\" class=\"dataframe\">\n",
              "  <thead>\n",
              "    <tr style=\"text-align: right;\">\n",
              "      <th></th>\n",
              "      <th>Group</th>\n",
              "      <th>id</th>\n",
              "      <th>Time</th>\n",
              "      <th>TumVol</th>\n",
              "    </tr>\n",
              "  </thead>\n",
              "  <tbody>\n",
              "    <tr>\n",
              "      <th>0</th>\n",
              "      <td>0</td>\n",
              "      <td>1</td>\n",
              "      <td>0</td>\n",
              "      <td>120.1</td>\n",
              "    </tr>\n",
              "    <tr>\n",
              "      <th>1</th>\n",
              "      <td>0</td>\n",
              "      <td>1</td>\n",
              "      <td>1</td>\n",
              "      <td>162.8</td>\n",
              "    </tr>\n",
              "    <tr>\n",
              "      <th>2</th>\n",
              "      <td>0</td>\n",
              "      <td>1</td>\n",
              "      <td>2</td>\n",
              "      <td>269.8</td>\n",
              "    </tr>\n",
              "    <tr>\n",
              "      <th>3</th>\n",
              "      <td>0</td>\n",
              "      <td>1</td>\n",
              "      <td>3</td>\n",
              "      <td>470.6</td>\n",
              "    </tr>\n",
              "    <tr>\n",
              "      <th>4</th>\n",
              "      <td>0</td>\n",
              "      <td>1</td>\n",
              "      <td>4</td>\n",
              "      <td>536.6</td>\n",
              "    </tr>\n",
              "    <tr>\n",
              "      <th>...</th>\n",
              "      <td>...</td>\n",
              "      <td>...</td>\n",
              "      <td>...</td>\n",
              "      <td>...</td>\n",
              "    </tr>\n",
              "    <tr>\n",
              "      <th>252</th>\n",
              "      <td>3</td>\n",
              "      <td>28</td>\n",
              "      <td>3</td>\n",
              "      <td>273.2</td>\n",
              "    </tr>\n",
              "    <tr>\n",
              "      <th>253</th>\n",
              "      <td>3</td>\n",
              "      <td>28</td>\n",
              "      <td>4</td>\n",
              "      <td>321.4</td>\n",
              "    </tr>\n",
              "    <tr>\n",
              "      <th>254</th>\n",
              "      <td>3</td>\n",
              "      <td>28</td>\n",
              "      <td>5</td>\n",
              "      <td>387.3</td>\n",
              "    </tr>\n",
              "    <tr>\n",
              "      <th>255</th>\n",
              "      <td>3</td>\n",
              "      <td>28</td>\n",
              "      <td>6</td>\n",
              "      <td>601.2</td>\n",
              "    </tr>\n",
              "    <tr>\n",
              "      <th>256</th>\n",
              "      <td>3</td>\n",
              "      <td>28</td>\n",
              "      <td>7</td>\n",
              "      <td>354.7</td>\n",
              "    </tr>\n",
              "  </tbody>\n",
              "</table>\n",
              "<p>257 rows × 4 columns</p>\n",
              "</div>"
            ],
            "text/plain": [
              "     Group  id  Time  TumVol\n",
              "0        0   1     0   120.1\n",
              "1        0   1     1   162.8\n",
              "2        0   1     2   269.8\n",
              "3        0   1     3   470.6\n",
              "4        0   1     4   536.6\n",
              "..     ...  ..   ...     ...\n",
              "252      3  28     3   273.2\n",
              "253      3  28     4   321.4\n",
              "254      3  28     5   387.3\n",
              "255      3  28     6   601.2\n",
              "256      3  28     7   354.7\n",
              "\n",
              "[257 rows x 4 columns]"
            ]
          },
          "metadata": {
            "tags": []
          },
          "execution_count": 10
        }
      ]
    },
    {
      "cell_type": "code",
      "metadata": {
        "id": "fiWuI0qkPAGN",
        "colab_type": "code",
        "colab": {}
      },
      "source": [
        "def find_volume(t,A,V0,r):\n",
        "  return  V0*np.exp(A*(1-np.exp(-r*t)))"
      ],
      "execution_count": 0,
      "outputs": []
    },
    {
      "cell_type": "code",
      "metadata": {
        "id": "Oqdk82M7Xumd",
        "colab_type": "code",
        "colab": {
          "base_uri": "https://localhost:8080/",
          "height": 328
        },
        "outputId": "2af2287c-f5e6-497f-9421-903151fe9a3d"
      },
      "source": [
        "data = data[data['id'] == 15]\n",
        "data"
      ],
      "execution_count": 12,
      "outputs": [
        {
          "output_type": "execute_result",
          "data": {
            "text/html": [
              "<div>\n",
              "<style scoped>\n",
              "    .dataframe tbody tr th:only-of-type {\n",
              "        vertical-align: middle;\n",
              "    }\n",
              "\n",
              "    .dataframe tbody tr th {\n",
              "        vertical-align: top;\n",
              "    }\n",
              "\n",
              "    .dataframe thead th {\n",
              "        text-align: right;\n",
              "    }\n",
              "</style>\n",
              "<table border=\"1\" class=\"dataframe\">\n",
              "  <thead>\n",
              "    <tr style=\"text-align: right;\">\n",
              "      <th></th>\n",
              "      <th>Group</th>\n",
              "      <th>id</th>\n",
              "      <th>Time</th>\n",
              "      <th>TumVol</th>\n",
              "    </tr>\n",
              "  </thead>\n",
              "  <tbody>\n",
              "    <tr>\n",
              "      <th>127</th>\n",
              "      <td>2</td>\n",
              "      <td>15</td>\n",
              "      <td>0</td>\n",
              "      <td>145.0</td>\n",
              "    </tr>\n",
              "    <tr>\n",
              "      <th>128</th>\n",
              "      <td>2</td>\n",
              "      <td>15</td>\n",
              "      <td>1</td>\n",
              "      <td>138.8</td>\n",
              "    </tr>\n",
              "    <tr>\n",
              "      <th>129</th>\n",
              "      <td>2</td>\n",
              "      <td>15</td>\n",
              "      <td>2</td>\n",
              "      <td>244.3</td>\n",
              "    </tr>\n",
              "    <tr>\n",
              "      <th>130</th>\n",
              "      <td>2</td>\n",
              "      <td>15</td>\n",
              "      <td>3</td>\n",
              "      <td>313.8</td>\n",
              "    </tr>\n",
              "    <tr>\n",
              "      <th>131</th>\n",
              "      <td>2</td>\n",
              "      <td>15</td>\n",
              "      <td>4</td>\n",
              "      <td>364.0</td>\n",
              "    </tr>\n",
              "    <tr>\n",
              "      <th>132</th>\n",
              "      <td>2</td>\n",
              "      <td>15</td>\n",
              "      <td>5</td>\n",
              "      <td>478.0</td>\n",
              "    </tr>\n",
              "    <tr>\n",
              "      <th>133</th>\n",
              "      <td>2</td>\n",
              "      <td>15</td>\n",
              "      <td>6</td>\n",
              "      <td>451.2</td>\n",
              "    </tr>\n",
              "    <tr>\n",
              "      <th>134</th>\n",
              "      <td>2</td>\n",
              "      <td>15</td>\n",
              "      <td>7</td>\n",
              "      <td>864.9</td>\n",
              "    </tr>\n",
              "    <tr>\n",
              "      <th>135</th>\n",
              "      <td>2</td>\n",
              "      <td>15</td>\n",
              "      <td>8</td>\n",
              "      <td>1035.6</td>\n",
              "    </tr>\n",
              "  </tbody>\n",
              "</table>\n",
              "</div>"
            ],
            "text/plain": [
              "     Group  id  Time  TumVol\n",
              "127      2  15     0   145.0\n",
              "128      2  15     1   138.8\n",
              "129      2  15     2   244.3\n",
              "130      2  15     3   313.8\n",
              "131      2  15     4   364.0\n",
              "132      2  15     5   478.0\n",
              "133      2  15     6   451.2\n",
              "134      2  15     7   864.9\n",
              "135      2  15     8  1035.6"
            ]
          },
          "metadata": {
            "tags": []
          },
          "execution_count": 12
        }
      ]
    },
    {
      "cell_type": "code",
      "metadata": {
        "id": "h0UnkKE7ZWK7",
        "colab_type": "code",
        "colab": {
          "base_uri": "https://localhost:8080/",
          "height": 370
        },
        "outputId": "f218b951-6292-4f39-fa82-0c688b100c10"
      },
      "source": [
        "from scipy.optimize import curve_fit\n",
        "t = data['Time'].values\n",
        "vol = data['TumVol'].values\n",
        "g = [27.631,100,2]\n",
        "c,cov = curve_fit(find_volume,t,vol,g)\n",
        "print(c)\n",
        "print(cov)"
      ],
      "execution_count": 13,
      "outputs": [
        {
          "output_type": "error",
          "ename": "RuntimeError",
          "evalue": "ignored",
          "traceback": [
            "\u001b[0;31m---------------------------------------------------------------------------\u001b[0m",
            "\u001b[0;31mRuntimeError\u001b[0m                              Traceback (most recent call last)",
            "\u001b[0;32m<ipython-input-13-46580ab2b1e7>\u001b[0m in \u001b[0;36m<module>\u001b[0;34m()\u001b[0m\n\u001b[1;32m      3\u001b[0m \u001b[0mvol\u001b[0m \u001b[0;34m=\u001b[0m \u001b[0mdata\u001b[0m\u001b[0;34m[\u001b[0m\u001b[0;34m'TumVol'\u001b[0m\u001b[0;34m]\u001b[0m\u001b[0;34m.\u001b[0m\u001b[0mvalues\u001b[0m\u001b[0;34m\u001b[0m\u001b[0;34m\u001b[0m\u001b[0m\n\u001b[1;32m      4\u001b[0m \u001b[0mg\u001b[0m \u001b[0;34m=\u001b[0m \u001b[0;34m[\u001b[0m\u001b[0;36m27.631\u001b[0m\u001b[0;34m,\u001b[0m\u001b[0;36m100\u001b[0m\u001b[0;34m,\u001b[0m\u001b[0;36m2\u001b[0m\u001b[0;34m]\u001b[0m\u001b[0;34m\u001b[0m\u001b[0;34m\u001b[0m\u001b[0m\n\u001b[0;32m----> 5\u001b[0;31m \u001b[0mc\u001b[0m\u001b[0;34m,\u001b[0m\u001b[0mcov\u001b[0m \u001b[0;34m=\u001b[0m \u001b[0mcurve_fit\u001b[0m\u001b[0;34m(\u001b[0m\u001b[0mfind_volume\u001b[0m\u001b[0;34m,\u001b[0m\u001b[0mt\u001b[0m\u001b[0;34m,\u001b[0m\u001b[0mvol\u001b[0m\u001b[0;34m,\u001b[0m\u001b[0mg\u001b[0m\u001b[0;34m)\u001b[0m\u001b[0;34m\u001b[0m\u001b[0;34m\u001b[0m\u001b[0m\n\u001b[0m\u001b[1;32m      6\u001b[0m \u001b[0mprint\u001b[0m\u001b[0;34m(\u001b[0m\u001b[0mc\u001b[0m\u001b[0;34m)\u001b[0m\u001b[0;34m\u001b[0m\u001b[0;34m\u001b[0m\u001b[0m\n\u001b[1;32m      7\u001b[0m \u001b[0mprint\u001b[0m\u001b[0;34m(\u001b[0m\u001b[0mcov\u001b[0m\u001b[0;34m)\u001b[0m\u001b[0;34m\u001b[0m\u001b[0;34m\u001b[0m\u001b[0m\n",
            "\u001b[0;32m/usr/local/lib/python3.6/dist-packages/scipy/optimize/minpack.py\u001b[0m in \u001b[0;36mcurve_fit\u001b[0;34m(f, xdata, ydata, p0, sigma, absolute_sigma, check_finite, bounds, method, jac, **kwargs)\u001b[0m\n\u001b[1;32m    766\u001b[0m         \u001b[0mcost\u001b[0m \u001b[0;34m=\u001b[0m \u001b[0mnp\u001b[0m\u001b[0;34m.\u001b[0m\u001b[0msum\u001b[0m\u001b[0;34m(\u001b[0m\u001b[0minfodict\u001b[0m\u001b[0;34m[\u001b[0m\u001b[0;34m'fvec'\u001b[0m\u001b[0;34m]\u001b[0m \u001b[0;34m**\u001b[0m \u001b[0;36m2\u001b[0m\u001b[0;34m)\u001b[0m\u001b[0;34m\u001b[0m\u001b[0;34m\u001b[0m\u001b[0m\n\u001b[1;32m    767\u001b[0m         \u001b[0;32mif\u001b[0m \u001b[0mier\u001b[0m \u001b[0;32mnot\u001b[0m \u001b[0;32min\u001b[0m \u001b[0;34m[\u001b[0m\u001b[0;36m1\u001b[0m\u001b[0;34m,\u001b[0m \u001b[0;36m2\u001b[0m\u001b[0;34m,\u001b[0m \u001b[0;36m3\u001b[0m\u001b[0;34m,\u001b[0m \u001b[0;36m4\u001b[0m\u001b[0;34m]\u001b[0m\u001b[0;34m:\u001b[0m\u001b[0;34m\u001b[0m\u001b[0;34m\u001b[0m\u001b[0m\n\u001b[0;32m--> 768\u001b[0;31m             \u001b[0;32mraise\u001b[0m \u001b[0mRuntimeError\u001b[0m\u001b[0;34m(\u001b[0m\u001b[0;34m\"Optimal parameters not found: \"\u001b[0m \u001b[0;34m+\u001b[0m \u001b[0merrmsg\u001b[0m\u001b[0;34m)\u001b[0m\u001b[0;34m\u001b[0m\u001b[0;34m\u001b[0m\u001b[0m\n\u001b[0m\u001b[1;32m    769\u001b[0m     \u001b[0;32melse\u001b[0m\u001b[0;34m:\u001b[0m\u001b[0;34m\u001b[0m\u001b[0;34m\u001b[0m\u001b[0m\n\u001b[1;32m    770\u001b[0m         \u001b[0;31m# Rename maxfev (leastsq) to max_nfev (least_squares), if specified.\u001b[0m\u001b[0;34m\u001b[0m\u001b[0;34m\u001b[0m\u001b[0;34m\u001b[0m\u001b[0m\n",
            "\u001b[0;31mRuntimeError\u001b[0m: Optimal parameters not found: Number of calls to function has reached maxfev = 800."
          ]
        }
      ]
    },
    {
      "cell_type": "code",
      "metadata": {
        "id": "0ss6k2mqXLT_",
        "colab_type": "code",
        "colab": {}
      },
      "source": [
        "n = len(data['Time'])\n",
        "y = np.empty(n)\n",
        "for i in range(n):\n",
        "  y[i] = find_volume(data['Time'][i],c[0],c[1],c[2])\n",
        "\n",
        "plt.plot(data['Time'],data['TumVol'])\n",
        "plt.plot(data['Time'],y,'ro')"
      ],
      "execution_count": 0,
      "outputs": []
    },
    {
      "cell_type": "code",
      "metadata": {
        "id": "EStO2cv4ZQ1_",
        "colab_type": "code",
        "colab": {}
      },
      "source": [
        "for i in range(8,100):\n",
        "  x=find_volume(i,2.809883,86.21815667,0.29171947)\n",
        "  print(x)\n",
        "  \n",
        "#x = find_volume(8,2.809883,86.21815667,0.29171947)"
      ],
      "execution_count": 0,
      "outputs": []
    },
    {
      "cell_type": "code",
      "metadata": {
        "id": "JiCSSJ_rcmcC",
        "colab_type": "code",
        "colab": {}
      },
      "source": [
        "vinf = np.exp(2.809883)*86.21815667\n",
        "vinf"
      ],
      "execution_count": 0,
      "outputs": []
    },
    {
      "cell_type": "code",
      "metadata": {
        "id": "GsJLTikDfYJY",
        "colab_type": "code",
        "colab": {}
      },
      "source": [
        "time = np.array(data['Time'].values)\n",
        "vol = np.array(data['TumVol'].values)\n",
        "for i in range(8,100):\n",
        "  x=find_volume(i,2.809883,86.21815667,0.29171947)\n",
        "  time = np.append(time,i)\n",
        "  vol = np.append(vol,x)"
      ],
      "execution_count": 0,
      "outputs": []
    },
    {
      "cell_type": "code",
      "metadata": {
        "id": "ubcCZr-bgvAM",
        "colab_type": "code",
        "colab": {}
      },
      "source": [
        "time"
      ],
      "execution_count": 0,
      "outputs": []
    },
    {
      "cell_type": "code",
      "metadata": {
        "id": "PnqNZhKWhJSm",
        "colab_type": "code",
        "colab": {}
      },
      "source": [
        "plt.plot(time,vol)\n",
        "plt.plot(data['Time'].values,data['TumVol'],'ro')\n",
        "plt.show()"
      ],
      "execution_count": 0,
      "outputs": []
    },
    {
      "cell_type": "markdown",
      "metadata": {
        "id": "ieyc3zPVk-Nh",
        "colab_type": "text"
      },
      "source": [
        ""
      ]
    },
    {
      "cell_type": "markdown",
      "metadata": {
        "id": "CEYCalIQGaMe",
        "colab_type": "text"
      },
      "source": [
        "**10/03/2020**"
      ]
    },
    {
      "cell_type": "code",
      "metadata": {
        "id": "1pL62LJeiDA5",
        "colab_type": "code",
        "colab": {
          "base_uri": "https://localhost:8080/",
          "height": 359
        },
        "outputId": "9e564180-0e2f-45f8-c88c-d2ada6aa3a11"
      },
      "source": [
        "data1 = pd.read_csv('/content/drive/My Drive/PE Related/tumdat.csv')\n",
        "data1 = data1[data1['id'] == 9]\n",
        "data1"
      ],
      "execution_count": 35,
      "outputs": [
        {
          "output_type": "execute_result",
          "data": {
            "text/html": [
              "<div>\n",
              "<style scoped>\n",
              "    .dataframe tbody tr th:only-of-type {\n",
              "        vertical-align: middle;\n",
              "    }\n",
              "\n",
              "    .dataframe tbody tr th {\n",
              "        vertical-align: top;\n",
              "    }\n",
              "\n",
              "    .dataframe thead th {\n",
              "        text-align: right;\n",
              "    }\n",
              "</style>\n",
              "<table border=\"1\" class=\"dataframe\">\n",
              "  <thead>\n",
              "    <tr style=\"text-align: right;\">\n",
              "      <th></th>\n",
              "      <th>Group</th>\n",
              "      <th>id</th>\n",
              "      <th>Time</th>\n",
              "      <th>TumVol</th>\n",
              "    </tr>\n",
              "  </thead>\n",
              "  <tbody>\n",
              "    <tr>\n",
              "      <th>68</th>\n",
              "      <td>1</td>\n",
              "      <td>9</td>\n",
              "      <td>0</td>\n",
              "      <td>141.5</td>\n",
              "    </tr>\n",
              "    <tr>\n",
              "      <th>69</th>\n",
              "      <td>1</td>\n",
              "      <td>9</td>\n",
              "      <td>1</td>\n",
              "      <td>204.4</td>\n",
              "    </tr>\n",
              "    <tr>\n",
              "      <th>70</th>\n",
              "      <td>1</td>\n",
              "      <td>9</td>\n",
              "      <td>2</td>\n",
              "      <td>248.7</td>\n",
              "    </tr>\n",
              "    <tr>\n",
              "      <th>71</th>\n",
              "      <td>1</td>\n",
              "      <td>9</td>\n",
              "      <td>3</td>\n",
              "      <td>242.5</td>\n",
              "    </tr>\n",
              "    <tr>\n",
              "      <th>72</th>\n",
              "      <td>1</td>\n",
              "      <td>9</td>\n",
              "      <td>4</td>\n",
              "      <td>477.9</td>\n",
              "    </tr>\n",
              "    <tr>\n",
              "      <th>73</th>\n",
              "      <td>1</td>\n",
              "      <td>9</td>\n",
              "      <td>5</td>\n",
              "      <td>864.2</td>\n",
              "    </tr>\n",
              "    <tr>\n",
              "      <th>74</th>\n",
              "      <td>1</td>\n",
              "      <td>9</td>\n",
              "      <td>6</td>\n",
              "      <td>961.1</td>\n",
              "    </tr>\n",
              "    <tr>\n",
              "      <th>75</th>\n",
              "      <td>1</td>\n",
              "      <td>9</td>\n",
              "      <td>7</td>\n",
              "      <td>912.1</td>\n",
              "    </tr>\n",
              "    <tr>\n",
              "      <th>76</th>\n",
              "      <td>1</td>\n",
              "      <td>9</td>\n",
              "      <td>8</td>\n",
              "      <td>1929.0</td>\n",
              "    </tr>\n",
              "    <tr>\n",
              "      <th>77</th>\n",
              "      <td>1</td>\n",
              "      <td>9</td>\n",
              "      <td>9</td>\n",
              "      <td>2164.3</td>\n",
              "    </tr>\n",
              "  </tbody>\n",
              "</table>\n",
              "</div>"
            ],
            "text/plain": [
              "    Group  id  Time  TumVol\n",
              "68      1   9     0   141.5\n",
              "69      1   9     1   204.4\n",
              "70      1   9     2   248.7\n",
              "71      1   9     3   242.5\n",
              "72      1   9     4   477.9\n",
              "73      1   9     5   864.2\n",
              "74      1   9     6   961.1\n",
              "75      1   9     7   912.1\n",
              "76      1   9     8  1929.0\n",
              "77      1   9     9  2164.3"
            ]
          },
          "metadata": {
            "tags": []
          },
          "execution_count": 35
        }
      ]
    },
    {
      "cell_type": "code",
      "metadata": {
        "id": "MquM43TvEuC6",
        "colab_type": "code",
        "colab": {}
      },
      "source": [
        "train = data1[data1['Time']<=6]\n",
        "test = data1[data1['Time']>6]"
      ],
      "execution_count": 0,
      "outputs": []
    },
    {
      "cell_type": "code",
      "metadata": {
        "id": "oSFA4g74FQ_C",
        "colab_type": "code",
        "colab": {
          "base_uri": "https://localhost:8080/",
          "height": 266
        },
        "outputId": "170c5785-cc26-4dec-ac40-1f99381b30be"
      },
      "source": [
        "train"
      ],
      "execution_count": 45,
      "outputs": [
        {
          "output_type": "execute_result",
          "data": {
            "text/html": [
              "<div>\n",
              "<style scoped>\n",
              "    .dataframe tbody tr th:only-of-type {\n",
              "        vertical-align: middle;\n",
              "    }\n",
              "\n",
              "    .dataframe tbody tr th {\n",
              "        vertical-align: top;\n",
              "    }\n",
              "\n",
              "    .dataframe thead th {\n",
              "        text-align: right;\n",
              "    }\n",
              "</style>\n",
              "<table border=\"1\" class=\"dataframe\">\n",
              "  <thead>\n",
              "    <tr style=\"text-align: right;\">\n",
              "      <th></th>\n",
              "      <th>Group</th>\n",
              "      <th>id</th>\n",
              "      <th>Time</th>\n",
              "      <th>TumVol</th>\n",
              "    </tr>\n",
              "  </thead>\n",
              "  <tbody>\n",
              "    <tr>\n",
              "      <th>68</th>\n",
              "      <td>1</td>\n",
              "      <td>9</td>\n",
              "      <td>0</td>\n",
              "      <td>141.5</td>\n",
              "    </tr>\n",
              "    <tr>\n",
              "      <th>69</th>\n",
              "      <td>1</td>\n",
              "      <td>9</td>\n",
              "      <td>1</td>\n",
              "      <td>204.4</td>\n",
              "    </tr>\n",
              "    <tr>\n",
              "      <th>70</th>\n",
              "      <td>1</td>\n",
              "      <td>9</td>\n",
              "      <td>2</td>\n",
              "      <td>248.7</td>\n",
              "    </tr>\n",
              "    <tr>\n",
              "      <th>71</th>\n",
              "      <td>1</td>\n",
              "      <td>9</td>\n",
              "      <td>3</td>\n",
              "      <td>242.5</td>\n",
              "    </tr>\n",
              "    <tr>\n",
              "      <th>72</th>\n",
              "      <td>1</td>\n",
              "      <td>9</td>\n",
              "      <td>4</td>\n",
              "      <td>477.9</td>\n",
              "    </tr>\n",
              "    <tr>\n",
              "      <th>73</th>\n",
              "      <td>1</td>\n",
              "      <td>9</td>\n",
              "      <td>5</td>\n",
              "      <td>864.2</td>\n",
              "    </tr>\n",
              "    <tr>\n",
              "      <th>74</th>\n",
              "      <td>1</td>\n",
              "      <td>9</td>\n",
              "      <td>6</td>\n",
              "      <td>961.1</td>\n",
              "    </tr>\n",
              "  </tbody>\n",
              "</table>\n",
              "</div>"
            ],
            "text/plain": [
              "    Group  id  Time  TumVol\n",
              "68      1   9     0   141.5\n",
              "69      1   9     1   204.4\n",
              "70      1   9     2   248.7\n",
              "71      1   9     3   242.5\n",
              "72      1   9     4   477.9\n",
              "73      1   9     5   864.2\n",
              "74      1   9     6   961.1"
            ]
          },
          "metadata": {
            "tags": []
          },
          "execution_count": 45
        }
      ]
    },
    {
      "cell_type": "code",
      "metadata": {
        "id": "4afSvS7_FuzY",
        "colab_type": "code",
        "colab": {
          "base_uri": "https://localhost:8080/",
          "height": 142
        },
        "outputId": "3a8320fa-22e6-4b82-dc2b-184808985b5c"
      },
      "source": [
        "test"
      ],
      "execution_count": 46,
      "outputs": [
        {
          "output_type": "execute_result",
          "data": {
            "text/html": [
              "<div>\n",
              "<style scoped>\n",
              "    .dataframe tbody tr th:only-of-type {\n",
              "        vertical-align: middle;\n",
              "    }\n",
              "\n",
              "    .dataframe tbody tr th {\n",
              "        vertical-align: top;\n",
              "    }\n",
              "\n",
              "    .dataframe thead th {\n",
              "        text-align: right;\n",
              "    }\n",
              "</style>\n",
              "<table border=\"1\" class=\"dataframe\">\n",
              "  <thead>\n",
              "    <tr style=\"text-align: right;\">\n",
              "      <th></th>\n",
              "      <th>Group</th>\n",
              "      <th>id</th>\n",
              "      <th>Time</th>\n",
              "      <th>TumVol</th>\n",
              "    </tr>\n",
              "  </thead>\n",
              "  <tbody>\n",
              "    <tr>\n",
              "      <th>75</th>\n",
              "      <td>1</td>\n",
              "      <td>9</td>\n",
              "      <td>7</td>\n",
              "      <td>912.1</td>\n",
              "    </tr>\n",
              "    <tr>\n",
              "      <th>76</th>\n",
              "      <td>1</td>\n",
              "      <td>9</td>\n",
              "      <td>8</td>\n",
              "      <td>1929.0</td>\n",
              "    </tr>\n",
              "    <tr>\n",
              "      <th>77</th>\n",
              "      <td>1</td>\n",
              "      <td>9</td>\n",
              "      <td>9</td>\n",
              "      <td>2164.3</td>\n",
              "    </tr>\n",
              "  </tbody>\n",
              "</table>\n",
              "</div>"
            ],
            "text/plain": [
              "    Group  id  Time  TumVol\n",
              "75      1   9     7   912.1\n",
              "76      1   9     8  1929.0\n",
              "77      1   9     9  2164.3"
            ]
          },
          "metadata": {
            "tags": []
          },
          "execution_count": 46
        }
      ]
    },
    {
      "cell_type": "code",
      "metadata": {
        "id": "HCXiSGE4F6fi",
        "colab_type": "code",
        "colab": {
          "base_uri": "https://localhost:8080/",
          "height": 85
        },
        "outputId": "ac253ca9-29cf-47f0-d2ba-9d86c2808acc"
      },
      "source": [
        "from scipy.optimize import curve_fit\n",
        "t = train['Time'].values\n",
        "vol = train['TumVol'].values\n",
        "g = [27.631,1/1000000,3.1]\n",
        "c,cov = curve_fit(find_volume,t,vol,g)\n",
        "print(c)\n",
        "print(cov)\n",
        "#ID : 4 , g : [27.631,1/1000000,2.1] "
      ],
      "execution_count": 47,
      "outputs": [
        {
          "output_type": "stream",
          "text": [
            "[8.85982778e+00 1.06954886e+02 4.87629825e-02]\n",
            "[[ 7.10483880e+02  1.41193833e+03 -4.84566836e+00]\n",
            " [ 1.41193833e+03  4.14327133e+03 -9.97566620e+00]\n",
            " [-4.84566836e+00 -9.97566620e+00  3.31418593e-02]]\n"
          ],
          "name": "stdout"
        }
      ]
    },
    {
      "cell_type": "code",
      "metadata": {
        "id": "kvYN2WFWGw03",
        "colab_type": "code",
        "colab": {
          "base_uri": "https://localhost:8080/",
          "height": 282
        },
        "outputId": "4e88be53-95d5-49e2-8b67-6febeb6bc643"
      },
      "source": [
        "n = len(train['Time'])\n",
        "y = np.empty(n)\n",
        "for i in range(n):\n",
        "  y[i] = find_volume(train['Time'][i+68],c[0],c[1],c[2])\n",
        "\n",
        "plt.plot(train['Time'],train['TumVol'])\n",
        "plt.plot(train['Time'],y,'ro')"
      ],
      "execution_count": 48,
      "outputs": [
        {
          "output_type": "execute_result",
          "data": {
            "text/plain": [
              "[<matplotlib.lines.Line2D at 0x7fa1ad097a20>]"
            ]
          },
          "metadata": {
            "tags": []
          },
          "execution_count": 48
        },
        {
          "output_type": "display_data",
          "data": {
            "image/png": "[encoded data removed]",
            "text/plain": [
              "<Figure size 432x288 with 1 Axes>"
            ]
          },
          "metadata": {
            "tags": [],
            "needs_background": "light"
          }
        }
      ]
    },
    {
      "cell_type": "code",
      "metadata": {
        "id": "EwPOn1M9HVQc",
        "colab_type": "code",
        "colab": {
          "base_uri": "https://localhost:8080/",
          "height": 34
        },
        "outputId": "c262002c-5617-4572-e11e-55ff0b66b33f"
      },
      "source": [
        "n1 = len(test['Time'])\n",
        "y1 = np.empty(n1)\n",
        "for i in range(n1):\n",
        "  y1[i]=find_volume(test['Time'][i+75],c[0],c[1],c[2])\n",
        "y1"
      ],
      "execution_count": 49,
      "outputs": [
        {
          "output_type": "execute_result",
          "data": {
            "text/plain": [
              "array([1386.47875937, 1871.04163115, 2489.1924114 ])"
            ]
          },
          "metadata": {
            "tags": []
          },
          "execution_count": 49
        }
      ]
    },
    {
      "cell_type": "code",
      "metadata": {
        "id": "Ywy5bC9YI3Jt",
        "colab_type": "code",
        "colab": {
          "base_uri": "https://localhost:8080/",
          "height": 282
        },
        "outputId": "b8cdfbf3-c539-4ee7-8834-81482a65c308"
      },
      "source": [
        "plt.plot(test['Time'],test['TumVol'],'bo-')\n",
        "plt.plot(test['Time'],y1,'ro-')"
      ],
      "execution_count": 50,
      "outputs": [
        {
          "output_type": "execute_result",
          "data": {
            "text/plain": [
              "[<matplotlib.lines.Line2D at 0x7fa1ad097dd8>]"
            ]
          },
          "metadata": {
            "tags": []
          },
          "execution_count": 50
        },
        {
          "output_type": "display_data",
          "data": {
            "image/png": "[encoded data removed]",
            "text/plain": [
              "<Figure size 432x288 with 1 Axes>"
            ]
          },
          "metadata": {
            "tags": [],
            "needs_background": "light"
          }
        }
      ]
    },
    {
      "cell_type": "code",
      "metadata": {
        "id": "rQWOFjZVLlB-",
        "colab_type": "code",
        "colab": {}
      },
      "source": [
        "import math\n",
        "def cal_rate(t1,t2,V1,V2):\n",
        "  Vinf = 753312.102292  #1000000    ################################# Need to check #################################\n",
        "  return (math.log(math.log(Vinf/V1))-math.log(math.log(Vinf/V2)))/(t2-t1)"
      ],
      "execution_count": 0,
      "outputs": []
    },
    {
      "cell_type": "code",
      "metadata": {
        "id": "IwLQLCTkRon_",
        "colab_type": "code",
        "colab": {}
      },
      "source": [
        "n = len(data1['Time'])\n",
        "y = np.empty(n)\n",
        "for i in range(n):\n",
        "  y[i] = find_volume(data1['Time'][i+68],c[0],c[1],c[2])"
      ],
      "execution_count": 0,
      "outputs": []
    },
    {
      "cell_type": "code",
      "metadata": {
        "id": "WXxg0BySmpB9",
        "colab_type": "code",
        "colab": {
          "base_uri": "https://localhost:8080/",
          "height": 68
        },
        "outputId": "481e0903-967a-485a-f112-3e0d67150baf"
      },
      "source": [
        "y"
      ],
      "execution_count": 24,
      "outputs": [
        {
          "output_type": "execute_result",
          "data": {
            "text/plain": [
              "array([ 106.95488602,  163.05284003,  243.63544895,  357.15091378,\n",
              "        514.11146828,  727.33304109, 1012.13441956, 1386.47875937,\n",
              "       1871.04163115, 2489.1924114 ])"
            ]
          },
          "metadata": {
            "tags": []
          },
          "execution_count": 24
        }
      ]
    },
    {
      "cell_type": "code",
      "metadata": {
        "id": "nshXPL0doq-k",
        "colab_type": "code",
        "colab": {
          "base_uri": "https://localhost:8080/",
          "height": 51
        },
        "outputId": "5e6c4ec6-f6dc-4a5f-b59d-a6af26320904"
      },
      "source": [
        "n1=len(y)\n",
        "y3=np.empty(n1)\n",
        "y3[0]=0\n",
        "for i in range(n1-1):\n",
        "  #y3[i+1]=cal_rate(0,1,y[0],y[1])\n",
        "  y3[i+1]=cal_rate(0,1,y[i],y[i+1])\n",
        "y3"
      ],
      "execution_count": 25,
      "outputs": [
        {
          "output_type": "execute_result",
          "data": {
            "text/plain": [
              "array([0.        , 0.04876298, 0.04876298, 0.04876298, 0.04876298,\n",
              "       0.04876298, 0.04876298, 0.04876298, 0.04876298, 0.04876298])"
            ]
          },
          "metadata": {
            "tags": []
          },
          "execution_count": 25
        }
      ]
    },
    {
      "cell_type": "code",
      "metadata": {
        "id": "JmIXnuiIeUme",
        "colab_type": "code",
        "colab": {}
      },
      "source": [
        "n = len(data1['Time'])\n",
        "y2 = np.empty(n)\n",
        "y2[0] = 0\n",
        "for i in range(n-1):\n",
        "  y2[i+1]=cal_rate(0,1,data1['TumVol'][i+68], data1['TumVol'][i+69])\n"
      ],
      "execution_count": 0,
      "outputs": []
    },
    {
      "cell_type": "code",
      "metadata": {
        "id": "F0ezLbweTNp9",
        "colab_type": "code",
        "colab": {
          "base_uri": "https://localhost:8080/",
          "height": 282
        },
        "outputId": "f26d02d3-ba82-4da1-d8ea-1c35ec0b5042"
      },
      "source": [
        "plt.plot(data1['Time'],y2)\n",
        "plt.plot(data1['Time'],y3)\n",
        "##without curve-fittig for vinf"
      ],
      "execution_count": 27,
      "outputs": [
        {
          "output_type": "execute_result",
          "data": {
            "text/plain": [
              "[<matplotlib.lines.Line2D at 0x7fa1ad36d400>]"
            ]
          },
          "metadata": {
            "tags": []
          },
          "execution_count": 27
        },
        {
          "output_type": "display_data",
          "data": {
            "image/png": "[encoded data removed]",
            "text/plain": [
              "<Figure size 432x288 with 1 Axes>"
            ]
          },
          "metadata": {
            "tags": [],
            "needs_background": "light"
          }
        }
      ]
    },
    {
      "cell_type": "code",
      "metadata": {
        "id": "_gIivN8eWAwh",
        "colab_type": "code",
        "colab": {}
      },
      "source": [
        "'''t = data1['Time'].values\n",
        "r=y2\n",
        "g = [0.12,0,204.5]\n",
        "c,cov = curve_fit(cal_rate,t,r,g)\n",
        "print(c)\n",
        "print(cov)\n",
        "'''"
      ],
      "execution_count": 0,
      "outputs": []
    },
    {
      "cell_type": "markdown",
      "metadata": {
        "id": "LkqOf6lCeOzi",
        "colab_type": "text"
      },
      "source": [
        "7/4"
      ]
    },
    {
      "cell_type": "code",
      "metadata": {
        "id": "37ErXKp0f3XT",
        "colab_type": "code",
        "colab": {}
      },
      "source": [
        "n1=len(y)\n",
        "y3=np.empty(n1)\n",
        "#y3[0]=0\n",
        "for i in range(n1-1):\n",
        "  y3[i]=cal_rate(0,1,y[i],y[i+1])\n",
        "y3"
      ],
      "execution_count": 0,
      "outputs": []
    },
    {
      "cell_type": "code",
      "metadata": {
        "id": "vKF2tPu8eSg2",
        "colab_type": "code",
        "colab": {}
      },
      "source": [
        "n = len(data1['Time'])\n",
        "y2 = np.empty(n)\n",
        "#y2[0] = 0\n",
        "for i in range(n-1):\n",
        "  y2[i]=cal_rate(0,1,data1['TumVol'][i+68], data1['TumVol'][i+69])"
      ],
      "execution_count": 0,
      "outputs": []
    },
    {
      "cell_type": "code",
      "metadata": {
        "id": "gzdeFjqYegdm",
        "colab_type": "code",
        "colab": {}
      },
      "source": [
        "plt.plot(data1['Time'],y2)\n",
        "plt.plot(data1['Time'],y3)"
      ],
      "execution_count": 0,
      "outputs": []
    },
    {
      "cell_type": "code",
      "metadata": {
        "id": "J3e-LFPCeuvw",
        "colab_type": "code",
        "colab": {}
      },
      "source": [
        "n=1000\n",
        "time = np.empty(n)\n",
        "vol = np.empty(n)\n",
        "for i in range(n):\n",
        "  x=find_volume(i,8.85982778e+00,1.06954886e+02,4.87629825e-02)\n",
        "  time[i] = i\n",
        "  vol[i] = x \n",
        "\n",
        "plt.plot(time,vol,'ro')\n",
        "plt.plot(data1['Time'],data1['TumVol'])\n",
        "plt.show()"
      ],
      "execution_count": 0,
      "outputs": []
    },
    {
      "cell_type": "code",
      "metadata": {
        "id": "bPtqg10u1e_W",
        "colab_type": "code",
        "colab": {}
      },
      "source": [
        "vol"
      ],
      "execution_count": 0,
      "outputs": []
    },
    {
      "cell_type": "code",
      "metadata": {
        "id": "p2kkA10Vn29t",
        "colab_type": "code",
        "colab": {}
      },
      "source": [
        "y4=np.empty(n)\n",
        "y4[0]=0\n",
        "for i in range(n-1):\n",
        "  y4[i]=cal_rate(0,1,vol[i],vol[i+1])\n",
        "#y4"
      ],
      "execution_count": 0,
      "outputs": []
    },
    {
      "cell_type": "code",
      "metadata": {
        "id": "e-191tY7s9x9",
        "colab_type": "code",
        "colab": {}
      },
      "source": [
        "plt.plot(data1['Time'],y2)\n",
        "plt.plot(time,y4)\n",
        "plt.show()"
      ],
      "execution_count": 0,
      "outputs": []
    },
    {
      "cell_type": "code",
      "metadata": {
        "id": "6hej9KkC1JbD",
        "colab_type": "code",
        "colab": {}
      },
      "source": [
        "plt.plot(data1['Time'],y2)"
      ],
      "execution_count": 0,
      "outputs": []
    },
    {
      "cell_type": "code",
      "metadata": {
        "id": "SsjOCCk03gAI",
        "colab_type": "code",
        "colab": {}
      },
      "source": [
        "plt.plot(time,y4)"
      ],
      "execution_count": 0,
      "outputs": []
    },
    {
      "cell_type": "code",
      "metadata": {
        "id": "n7ZPSwoy33Ny",
        "colab_type": "code",
        "colab": {}
      },
      "source": [
        "time"
      ],
      "execution_count": 0,
      "outputs": []
    },
    {
      "cell_type": "markdown",
      "metadata": {
        "id": "C8Miljyv-YBT",
        "colab_type": "text"
      },
      "source": [
        "ID:1\n"
      ]
    },
    {
      "cell_type": "code",
      "metadata": {
        "id": "cpq3o5_AbBQC",
        "colab_type": "code",
        "colab": {}
      },
      "source": [
        "import math\n",
        "def cal_rate(Vinf,t1,t2,V1,V2):\n",
        "  #Vinf = 753312.102292  #1000000    ################################# Need to check #################################\n",
        "  return (math.log(Vinf/V1)-math.log(Vinf/V2))/(t2-t1)"
      ],
      "execution_count": 0,
      "outputs": []
    },
    {
      "cell_type": "code",
      "metadata": {
        "id": "WpIW3ryD-aMo",
        "colab_type": "code",
        "colab": {}
      },
      "source": [
        "n=10\n",
        "time1 = np.empty(n)\n",
        "vol1 = np.empty(n)\n",
        "for i in range(n):\n",
        "  x=find_volume(i,2.809883,86.21815667,0.29171947)\n",
        "  time1[i] = i\n",
        "  vol1[i] = x\n",
        "\n",
        "plt.plot(time1,vol1,'ro')\n",
        "plt.plot(data['Time'],data['TumVol'])\n",
        "plt.show()"
      ],
      "execution_count": 0,
      "outputs": []
    },
    {
      "cell_type": "code",
      "metadata": {
        "id": "qabY1RlZ-2Yr",
        "colab_type": "code",
        "colab": {}
      },
      "source": [
        "n1 = len(data['Time'])\n",
        "y4 = np.empty(n1)\n",
        "y4[0] = 0\n",
        "for i in range(n1-1):\n",
        "  y4[i+1]=cal_rate(1431.90,0,1,data['TumVol'][i], data['TumVol'][i+1])"
      ],
      "execution_count": 0,
      "outputs": []
    },
    {
      "cell_type": "code",
      "metadata": {
        "id": "FANY2qrG_U_r",
        "colab_type": "code",
        "colab": {}
      },
      "source": [
        "y5=np.empty(n)\n",
        "y5[0]=0\n",
        "for i in range(n-1):\n",
        "  y5[i+1]=cal_rate(1431.90,0,1,vol1[i],vol1[i+1])"
      ],
      "execution_count": 0,
      "outputs": []
    },
    {
      "cell_type": "code",
      "metadata": {
        "id": "nnSr6pJN_sHf",
        "colab_type": "code",
        "colab": {}
      },
      "source": [
        "plt.plot(time1,y5,'r')\n",
        "plt.plot(data['Time'],y4)\n",
        "plt.show()"
      ],
      "execution_count": 0,
      "outputs": []
    },
    {
      "cell_type": "code",
      "metadata": {
        "id": "5Kj2EFh9A8BC",
        "colab_type": "code",
        "colab": {}
      },
      "source": [
        "plt.plot(data['Time'],y4)"
      ],
      "execution_count": 0,
      "outputs": []
    },
    {
      "cell_type": "code",
      "metadata": {
        "id": "CR1W1ZSsCvCc",
        "colab_type": "code",
        "colab": {}
      },
      "source": [
        "plt.plot(time1,y5)"
      ],
      "execution_count": 0,
      "outputs": []
    },
    {
      "cell_type": "code",
      "metadata": {
        "id": "ZY8qGe57JCNs",
        "colab_type": "code",
        "colab": {}
      },
      "source": [
        "y5"
      ],
      "execution_count": 0,
      "outputs": []
    },
    {
      "cell_type": "code",
      "metadata": {
        "id": "WNJp7PcpZvwh",
        "colab_type": "code",
        "colab": {}
      },
      "source": [
        ""
      ],
      "execution_count": 0,
      "outputs": []
    }
  ]
}